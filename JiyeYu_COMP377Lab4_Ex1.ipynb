{
 "cells": [
  {
   "cell_type": "code",
   "execution_count": 1,
   "id": "cc686119",
   "metadata": {},
   "outputs": [],
   "source": [
    "from mnist import MNIST\n",
    "import tensorflow as tf\n",
    "from tensorflow.keras.datasets.mnist import load_data"
   ]
  },
  {
   "cell_type": "code",
   "execution_count": 2,
   "id": "275bcfa2",
   "metadata": {},
   "outputs": [],
   "source": [
    "# load the MNIST dataset\n",
    "(train_x, train_y), (test_x, test_y) = load_data()"
   ]
  },
  {
   "cell_type": "code",
   "execution_count": 3,
   "id": "4ae1bbff",
   "metadata": {},
   "outputs": [
    {
     "data": {
      "text/plain": [
       "(60000, 28, 28)"
      ]
     },
     "execution_count": 3,
     "metadata": {},
     "output_type": "execute_result"
    }
   ],
   "source": [
    "train_x.shape"
   ]
  },
  {
   "cell_type": "code",
   "execution_count": 4,
   "id": "7b5d5ad6",
   "metadata": {},
   "outputs": [
    {
     "data": {
      "text/plain": [
       "(60000,)"
      ]
     },
     "execution_count": 4,
     "metadata": {},
     "output_type": "execute_result"
    }
   ],
   "source": [
    "train_y.shape"
   ]
  },
  {
   "cell_type": "code",
   "execution_count": 5,
   "id": "4aadce9e",
   "metadata": {},
   "outputs": [
    {
     "data": {
      "text/plain": [
       "(10000, 28, 28)"
      ]
     },
     "execution_count": 5,
     "metadata": {},
     "output_type": "execute_result"
    }
   ],
   "source": [
    "test_x.shape"
   ]
  },
  {
   "cell_type": "code",
   "execution_count": 6,
   "id": "4d8e25b6",
   "metadata": {},
   "outputs": [
    {
     "data": {
      "text/plain": [
       "(10000,)"
      ]
     },
     "execution_count": 6,
     "metadata": {},
     "output_type": "execute_result"
    }
   ],
   "source": [
    "test_y.shape"
   ]
  },
  {
   "cell_type": "code",
   "execution_count": 7,
   "id": "b32c2f55",
   "metadata": {},
   "outputs": [],
   "source": [
    "# reshape the training and testing data\n",
    "train_x = train_x.reshape((train_x.shape[0], train_x.shape[1],\n",
    "train_x.shape[2],1))\n",
    "test_x = test_x.reshape((test_x.shape[0], test_x.shape[1], test_x.shape[2], 1))"
   ]
  },
  {
   "cell_type": "code",
   "execution_count": 8,
   "id": "357f7ffa",
   "metadata": {},
   "outputs": [],
   "source": [
    "# normalizing\n",
    "train_x = train_x.astype('float32') / 255.0\n",
    "test_x = test_x.astype('float32') / 255.0"
   ]
  },
  {
   "cell_type": "code",
   "execution_count": 9,
   "id": "7e13c4d0",
   "metadata": {},
   "outputs": [
    {
     "data": {
      "image/png": "[encoded data removed]",
      "text/plain": [
       "<Figure size 360x216 with 15 Axes>"
      ]
     },
     "metadata": {},
     "output_type": "display_data"
    }
   ],
   "source": [
    "import numpy as np\n",
    "from matplotlib import pyplot as plt\n",
    "fig = plt.figure(figsize=(5,3))\n",
    "# plot first few images\n",
    "for i in range (15):\n",
    "    # define subplot\n",
    "    ax = fig.add_subplot(2,10, i+1, xticks=[], yticks=[])\n",
    "    # plot raw pixel data\n",
    "    ax.imshow(np.squeeze(train_x[i]), cmap='gray')\n",
    "    ax.set_title(train_y[i])"
   ]
  },
  {
   "cell_type": "code",
   "execution_count": 10,
   "id": "8110b4fa",
   "metadata": {},
   "outputs": [
    {
     "name": "stdout",
     "output_type": "stream",
     "text": [
      "(28, 28, 1)\n"
     ]
    }
   ],
   "source": [
    "# determine the shape of the input images\n",
    "img_shape = train_x.shape[1:]\n",
    "print(img_shape)"
   ]
  },
  {
   "cell_type": "code",
   "execution_count": 11,
   "id": "496bb1ae",
   "metadata": {},
   "outputs": [],
   "source": [
    "from tensorflow import keras\n",
    "from tensorflow.keras import layers\n",
    "from tensorflow.keras.models import Sequential\n",
    "from keras.layers import Dense, Conv2D, AveragePooling2D, Flatten"
   ]
  },
  {
   "cell_type": "code",
   "execution_count": 12,
   "id": "0a51f483",
   "metadata": {},
   "outputs": [],
   "source": [
    "#use these two lines when you use tensorflow models.\n",
    "#This woud avoid several warnings and errors\n",
    "tf.config.run_functions_eagerly(True)\n",
    "tf.data.experimental.enable_debug_mode()"
   ]
  },
  {
   "cell_type": "code",
   "execution_count": 13,
   "id": "84341479",
   "metadata": {},
   "outputs": [
    {
     "name": "stderr",
     "output_type": "stream",
     "text": [
      "2022-03-22 04:56:08.781112: I tensorflow/core/platform/cpu_feature_guard.cc:151] This TensorFlow binary is optimized with oneAPI Deep Neural Network Library (oneDNN) to use the following CPU instructions in performance-critical operations:  AVX2 FMA\n",
      "To enable them in other operations, rebuild TensorFlow with the appropriate compiler flags.\n"
     ]
    }
   ],
   "source": [
    "model = Sequential([\n",
    "    #model expects rows of feature data with shape input_shape using img_shape\n",
    "\n",
    "    layers.InputLayer(input_shape=(img_shape)),\n",
    "    \n",
    "    layers.Conv2D(32, (3, 3), padding='same', activation='relu'),  #hidden layer\n",
    "    layers.AveragePooling2D((2, 2)),\n",
    "    \n",
    "    layers.Conv2D(48, (3, 3), padding='same', activation='relu'),  #hidden layer\n",
    "    layers.AveragePooling2D((2, 2)),\n",
    "    \n",
    "    layers.Flatten(), #create array of pixels of single dimension since Dense takes 1D input\n",
    "    \n",
    "    layers.Dense(500, activation='relu'),  #hidden layer\n",
    "    \n",
    "    #no activation function is used inside output layer\n",
    "# Use Dense for the output layer. This layer is to be activated by softmax function.\n",
    "    layers.Dense(10, activation='softmax')  #output layer\n",
    "])"
   ]
  },
  {
   "cell_type": "code",
   "execution_count": 14,
   "id": "b89de58e",
   "metadata": {},
   "outputs": [
    {
     "name": "stdout",
     "output_type": "stream",
     "text": [
      "Model: \"sequential\"\n",
      "_________________________________________________________________\n",
      " Layer (type)                Output Shape              Param #   \n",
      "=================================================================\n",
      " conv2d (Conv2D)             (None, 28, 28, 32)        320       \n",
      "                                                                 \n",
      " average_pooling2d (AverageP  (None, 14, 14, 32)       0         \n",
      " ooling2D)                                                       \n",
      "                                                                 \n",
      " conv2d_1 (Conv2D)           (None, 14, 14, 48)        13872     \n",
      "                                                                 \n",
      " average_pooling2d_1 (Averag  (None, 7, 7, 48)         0         \n",
      " ePooling2D)                                                     \n",
      "                                                                 \n",
      " flatten (Flatten)           (None, 2352)              0         \n",
      "                                                                 \n",
      " dense (Dense)               (None, 500)               1176500   \n",
      "                                                                 \n",
      " dense_1 (Dense)             (None, 10)                5010      \n",
      "                                                                 \n",
      "=================================================================\n",
      "Total params: 1,195,702\n",
      "Trainable params: 1,195,702\n",
      "Non-trainable params: 0\n",
      "_________________________________________________________________\n"
     ]
    }
   ],
   "source": [
    "model.summary()"
   ]
  },
  {
   "cell_type": "code",
   "execution_count": 15,
   "id": "e41f5453",
   "metadata": {},
   "outputs": [],
   "source": [
    "#the from_logits=True attribute informs the loss function that the output values \n",
    "#generated by the model are not normalized\n",
    "model.compile(optimizer='adam',\n",
    "              loss=keras.losses.SparseCategoricalCrossentropy(from_logits=True),\n",
    "              metrics=['accuracy'])"
   ]
  },
  {
   "cell_type": "code",
   "execution_count": 16,
   "id": "2fc8df20",
   "metadata": {},
   "outputs": [
    {
     "data": {
      "text/plain": [
       "(60000, 28, 28, 1)"
      ]
     },
     "execution_count": 16,
     "metadata": {},
     "output_type": "execute_result"
    }
   ],
   "source": [
    "train_x.shape"
   ]
  },
  {
   "cell_type": "code",
   "execution_count": 17,
   "id": "903cacb1",
   "metadata": {},
   "outputs": [
    {
     "data": {
      "text/plain": [
       "(60000,)"
      ]
     },
     "execution_count": 17,
     "metadata": {},
     "output_type": "execute_result"
    }
   ],
   "source": [
    "train_y.shape"
   ]
  },
  {
   "cell_type": "code",
   "execution_count": 18,
   "id": "f576213e",
   "metadata": {},
   "outputs": [
    {
     "name": "stdout",
     "output_type": "stream",
     "text": [
      "Epoch 1/5\n",
      "   3/1875 [..............................] - ETA: 1:37 - loss: 2.2912 - accuracy: 0.1458"
     ]
    },
    {
     "name": "stderr",
     "output_type": "stream",
     "text": [
      "/Users/jiyeyu/.local/lib/python3.9/site-packages/tensorflow/python/util/dispatch.py:1082: UserWarning: \"`sparse_categorical_crossentropy` received `from_logits=True`, but the `output` argument was produced by a sigmoid or softmax activation and thus does not represent logits. Was this intended?\"\n",
      "  return dispatch_target(*args, **kwargs)\n"
     ]
    },
    {
     "name": "stdout",
     "output_type": "stream",
     "text": [
      "1875/1875 [==============================] - 97s 52ms/step - loss: 0.1347 - accuracy: 0.9586\n",
      "Epoch 2/5\n",
      "1875/1875 [==============================] - 87s 46ms/step - loss: 0.0442 - accuracy: 0.9864\n",
      "Epoch 3/5\n",
      "1875/1875 [==============================] - 73s 39ms/step - loss: 0.0302 - accuracy: 0.9903\n",
      "Epoch 4/5\n",
      "1875/1875 [==============================] - 78s 41ms/step - loss: 0.0220 - accuracy: 0.9930\n",
      "Epoch 5/5\n",
      "1875/1875 [==============================] - 71s 38ms/step - loss: 0.0166 - accuracy: 0.9949\n"
     ]
    },
    {
     "data": {
      "text/plain": [
       "<keras.callbacks.History at 0x7fa12dfd6ee0>"
      ]
     },
     "execution_count": 18,
     "metadata": {},
     "output_type": "execute_result"
    }
   ],
   "source": [
    "# training the model for 5 epochs\n",
    "model.fit(train_x, train_y, epochs=5)"
   ]
  },
  {
   "cell_type": "code",
   "execution_count": 19,
   "id": "3b44b779",
   "metadata": {},
   "outputs": [
    {
     "name": "stdout",
     "output_type": "stream",
     "text": [
      "313/313 - 4s - loss: 0.0259 - accuracy: 0.9914 - 4s/epoch - 14ms/step\n"
     ]
    }
   ],
   "source": [
    "#finding accuracy of the model\n",
    "score = model.evaluate(test_x, test_y, verbose=2)"
   ]
  },
  {
   "cell_type": "code",
   "execution_count": 20,
   "id": "5e782e0c",
   "metadata": {},
   "outputs": [
    {
     "name": "stdout",
     "output_type": "stream",
     "text": [
      "Test loss: 0.025926796719431877\n",
      "Test accuracy: 0.9914000034332275\n"
     ]
    }
   ],
   "source": [
    "print(\"Test loss:\", score[0])\n",
    "print(\"Test accuracy:\", score[1])"
   ]
  },
  {
   "cell_type": "code",
   "execution_count": 21,
   "id": "54965cca",
   "metadata": {},
   "outputs": [
    {
     "data": {
      "image/png": "[encoded data removed]",
      "text/plain": [
       "<Figure size 432x288 with 1 Axes>"
      ]
     },
     "metadata": {
      "needs_background": "light"
     },
     "output_type": "display_data"
    }
   ],
   "source": [
    "# Pick the 5th image from the dataset. it is a 9\n",
    "image = train_x[4]\n",
    "plt.imshow(np.squeeze(image), cmap='gray')\n",
    "plt.show()"
   ]
  },
  {
   "cell_type": "code",
   "execution_count": 22,
   "id": "24283bac",
   "metadata": {},
   "outputs": [
    {
     "name": "stdout",
     "output_type": "stream",
     "text": [
      "Predicted: 9\n"
     ]
    }
   ],
   "source": [
    "from numpy import unique, argmax\n",
    "image = image.reshape(1, image.shape[0], image.shape[1], image.shape[2])\n",
    "p = model.predict([image])\n",
    "print('Predicted: {}'.format(argmax(p)))"
   ]
  },
  {
   "cell_type": "code",
   "execution_count": 23,
   "id": "6da60947",
   "metadata": {},
   "outputs": [
    {
     "data": {
      "image/png": "[encoded data removed]",
      "text/plain": [
       "<Figure size 432x288 with 9 Axes>"
      ]
     },
     "metadata": {
      "needs_background": "light"
     },
     "output_type": "display_data"
    }
   ],
   "source": [
    "from matplotlib import pyplot\n",
    "# plot first few images\n",
    "for i in range(9):\n",
    "# define subplot\n",
    "    pyplot.subplot(330 + 1 + i)\n",
    "# plot raw pixel data\n",
    "    pyplot.imshow(train_x[i])\n",
    "# show the figure\n",
    "pyplot.show()"
   ]
  },
  {
   "cell_type": "code",
   "execution_count": 24,
   "id": "7090bd54",
   "metadata": {},
   "outputs": [
    {
     "data": {
      "text/plain": [
       "(10000, 28, 28, 1)"
      ]
     },
     "execution_count": 24,
     "metadata": {},
     "output_type": "execute_result"
    }
   ],
   "source": [
    "test_x.shape"
   ]
  },
  {
   "cell_type": "code",
   "execution_count": 25,
   "id": "b3b40aee",
   "metadata": {},
   "outputs": [
    {
     "data": {
      "text/plain": [
       "(10000,)"
      ]
     },
     "execution_count": 25,
     "metadata": {},
     "output_type": "execute_result"
    }
   ],
   "source": [
    "test_y.shape"
   ]
  },
  {
   "cell_type": "code",
   "execution_count": null,
   "id": "f7e85090",
   "metadata": {},
   "outputs": [],
   "source": []
  }
 ],
 "metadata": {
  "kernelspec": {
   "display_name": "Python 3 (ipykernel)",
   "language": "python",
   "name": "python3"
  },
  "language_info": {
   "codemirror_mode": {
    "name": "ipython",
    "version": 3
   },
   "file_extension": ".py",
   "mimetype": "text/x-python",
   "name": "python",
   "nbconvert_exporter": "python",
   "pygments_lexer": "ipython3",
   "version": "3.9.7"
  }
 },
 "nbformat": 4,
 "nbformat_minor": 5
}
